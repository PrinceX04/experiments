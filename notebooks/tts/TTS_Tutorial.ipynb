{
  "cells": [
    {
      "cell_type": "markdown",
      "metadata": {
        "id": "3-IADGdpqr1r"
      },
      "source": [
        "# **Text-to-Speech Conversion using Sarvam AI API**\n",
        "\n",
        "This notebook demonstrates how to convert text into speech using the Sarvam AI Text-to-Speech API.The resulting audio files are saved as `.wav` files."
      ]
    },
    {
      "cell_type": "markdown",
      "metadata": {
        "id": "03ysDeEzq3cK"
      },
      "source": [
        "## **Prerequisites**\n",
        "\n",
        "Before running this notebook, ensure you have the following installed:\n",
        "\n",
        "- Python 3.7 or higher\n",
        "- Required Python packages: `sarvamai`\n",
        "\n",
        "You can install the required packages using pip:"
      ]
    },
    {
      "cell_type": "code",
      "execution_count": 25,
      "metadata": {
        "colab": {
          "base_uri": "https://localhost:8080/"
        },
        "id": "yKyh-z3eq-Ss",
        "outputId": "86e645de-601e-48f3-fbb1-1359ad794bec"
      },
      "outputs": [
        {
          "output_type": "stream",
          "name": "stdout",
          "text": [
            "Requirement already satisfied: sarvamai in /usr/local/lib/python3.11/dist-packages (0.1.1)\n",
            "Requirement already satisfied: httpx>=0.21.2 in /usr/local/lib/python3.11/dist-packages (from sarvamai) (0.28.1)\n",
            "Requirement already satisfied: pydantic>=1.9.2 in /usr/local/lib/python3.11/dist-packages (from sarvamai) (2.11.4)\n",
            "Requirement already satisfied: pydantic-core<3.0.0,>=2.18.2 in /usr/local/lib/python3.11/dist-packages (from sarvamai) (2.33.2)\n",
            "Requirement already satisfied: typing_extensions>=4.0.0 in /usr/local/lib/python3.11/dist-packages (from sarvamai) (4.13.2)\n",
            "Requirement already satisfied: anyio in /usr/local/lib/python3.11/dist-packages (from httpx>=0.21.2->sarvamai) (4.9.0)\n",
            "Requirement already satisfied: certifi in /usr/local/lib/python3.11/dist-packages (from httpx>=0.21.2->sarvamai) (2025.4.26)\n",
            "Requirement already satisfied: httpcore==1.* in /usr/local/lib/python3.11/dist-packages (from httpx>=0.21.2->sarvamai) (1.0.9)\n",
            "Requirement already satisfied: idna in /usr/local/lib/python3.11/dist-packages (from httpx>=0.21.2->sarvamai) (3.10)\n",
            "Requirement already satisfied: h11>=0.16 in /usr/local/lib/python3.11/dist-packages (from httpcore==1.*->httpx>=0.21.2->sarvamai) (0.16.0)\n",
            "Requirement already satisfied: annotated-types>=0.6.0 in /usr/local/lib/python3.11/dist-packages (from pydantic>=1.9.2->sarvamai) (0.7.0)\n",
            "Requirement already satisfied: typing-inspection>=0.4.0 in /usr/local/lib/python3.11/dist-packages (from pydantic>=1.9.2->sarvamai) (0.4.0)\n",
            "Requirement already satisfied: sniffio>=1.1 in /usr/local/lib/python3.11/dist-packages (from anyio->httpx>=0.21.2->sarvamai) (1.3.1)\n"
          ]
        }
      ],
      "source": [
        "!pip install sarvamai"
      ]
    },
    {
      "cell_type": "markdown",
      "metadata": {
        "id": "vL9wgNLprBap"
      },
      "source": [
        "## **Import Required Libraries**\n",
        "\n",
        "First, let's import all the necessary libraries."
      ]
    },
    {
      "cell_type": "code",
      "execution_count": 26,
      "metadata": {
        "id": "f63ac1TJrIkb"
      },
      "outputs": [],
      "source": [
        "from sarvamai import SarvamAI\n",
        "from sarvamai.play import play, save"
      ]
    },
    {
      "cell_type": "markdown",
      "metadata": {
        "id": "26lnUT4MeOha"
      },
      "source": [
        "### **2. Call the API endpoint through the SDK, by passing API Parameters**\n",
        "\n",
        "To use the TTS Bulbul API, you need an API subscription key. Follow these steps to set up your API key:\n",
        "\n",
        "1. **Obtain your API key**: If you don’t have an API key, sign up on the [Sarvam AI Dashboard](https://dashboard.sarvam.ai/) to get one.\n",
        "2. **Replace the placeholder key**: In the code below, replace \"YOUR_SARVAM_AI_API_KEY\" with your actual API key."
      ]
    },
    {
      "cell_type": "code",
      "execution_count": 27,
      "metadata": {
        "id": "l5tcBKUitxYz"
      },
      "outputs": [],
      "source": [
        "SARVAM_API_KEY = \"758a2f99-dae7-428c-aac9-d6193a877b97\""
      ]
    },
    {
      "cell_type": "code",
      "execution_count": 28,
      "metadata": {
        "id": "mWZtNfwctxY0"
      },
      "outputs": [],
      "source": [
        "client = SarvamAI(api_subscription_key=SARVAM_API_KEY)"
      ]
    },
    {
      "cell_type": "markdown",
      "metadata": {
        "id": "68rZZZBZtxY0"
      },
      "source": [
        "## **Understanding the Parameters**  \n",
        "\n",
        "- `target_language_code`: The language of the text is BCP-47 format\n",
        "\n",
        "- `speaker`: The speaker voice to be used for the output audio.\n",
        "    - Female: Anushka, Manisha, Vidya, Arya\n",
        "    - Male: Abhilash, Karun, Hitesh\n",
        "\n",
        "- `pitch`: Controls the pitch of the audio. Lower values result in a deeper voice, while higher values make it sharper. The suitable range is between -0.75 and 0.75. Default is 0.0.\n",
        "\n",
        "- `pace`: Controls the speed of the audio. Lower values result in slower speech, while higher values make it faster. The suitable range is between 0.5 and 2.0. Default is 1.0.\n",
        "\n",
        "- `loudness`: Controls the loudness of the audio. Lower values result in quieter audio, while higher values make it louder. The suitable range is between 0.3 and 3.0. Default is 1.0.\n",
        "\n",
        "- `speech_sample_rate`: Specifies the sample rate of the output audio. Supported values are 8000, 16000, 22050, 24000 Hz. If not provided, the default is 22050 Hz.\n",
        "\n",
        "- `enable_preprocessing`: Controls whether normalization of English words and numeric entities (e.g., numbers, dates) is performed. Set to true for better handling of mixed-language text. Default is false.\n"
      ]
    },
    {
      "cell_type": "code",
      "execution_count": 29,
      "metadata": {
        "id": "uz68BWWKeDVa"
      },
      "outputs": [],
      "source": [
        "text = \"नमस्कार! मैं Maitri NetMeds से बोल रही हूँ। हम एक नई सेवा शुरू कर रहे हैं, जिससे आप अपनी दवाइयों की सब्सक्रिप्शन आसानी से ले सकती हैं। इससे आपको समय-समय पर दवाइयाँ नियमित रूप से मिलती रहेंगी, बिना किसी चिंता के। हमने इस सेवा का लिंक आपके WhatsApp पर भेजा है। कृपया उसे खोलें और अपनी सब्सक्रिप्शन प्रक्रिया को पूरा करें। धन्यवाद, और अगर आपको किसी भी मदद की ज़रूरत हो तो हमसे संपर्क करें।\""
      ]
    },
    {
      "cell_type": "code",
      "execution_count": 30,
      "metadata": {
        "id": "iipnAnohtxY0"
      },
      "outputs": [],
      "source": [
        "response = client.text_to_speech.convert(\n",
        "    inputs=[text],\n",
        "    target_language_code=\"hi-IN\",\n",
        "    speaker=\"anushka\",\n",
        "    enable_preprocessing=True,\n",
        ")"
      ]
    },
    {
      "cell_type": "markdown",
      "metadata": {
        "id": "9wfZapgjtxY0"
      },
      "source": [
        "### **3. Save/Play the audio output from TTS**"
      ]
    },
    {
      "cell_type": "markdown",
      "metadata": {
        "id": "tlqjNxzTtxY0"
      },
      "source": [
        "**To play audio, which you just inputted**"
      ]
    },
    {
      "cell_type": "code",
      "execution_count": 31,
      "metadata": {
        "id": "syN8-UGLtxY0"
      },
      "outputs": [],
      "source": [
        "play(response)"
      ]
    },
    {
      "cell_type": "markdown",
      "metadata": {
        "id": "vjJLVksctxY0"
      },
      "source": [
        "**To save audio, which you just put for TTS to be saved**"
      ]
    },
    {
      "cell_type": "code",
      "execution_count": 32,
      "metadata": {
        "id": "DbS3oS5mtxY0"
      },
      "outputs": [],
      "source": [
        "save(response, \"output.wav\")"
      ]
    },
    {
      "cell_type": "markdown",
      "metadata": {
        "id": "AYRy2TvfrmQM"
      },
      "source": [
        "## **Output**\n",
        "\n",
        "After running the notebook, you will have one  `output.wav` file containing the speech for the chunk of text you passed in notebook.\n",
        "\n",
        "## **Conclusion**\n",
        "This notebook provides a step-by-step guide to converting text into speech using the Sarvam AI API. You can modify the text, language, and other parameters to suit your specific needs.\n",
        "\n",
        "\n",
        "### **Additional Resources**\n",
        "\n",
        "For more details, refer to the our official documentation and we are always there to support and help you on our Discord Server:\n",
        "\n",
        "- **Documentation**: [docs.sarvam.ai](https://docs.sarvam.ai)  \n",
        "- **Community**: [Join the Discord Community](https://discord.gg/hTuVuPNF)\n",
        "\n",
        "---\n",
        "\n",
        "### **9. Final Notes**\n",
        "\n",
        "- Keep your API key secure.\n",
        "- Use clear audio for best results.\n",
        "\n",
        "**Keep Building!** 🚀"
      ]
    },
    {
      "cell_type": "markdown",
      "metadata": {
        "id": "1DKnZsuQtxY0"
      },
      "source": []
    }
  ],
  "metadata": {
    "colab": {
      "provenance": []
    },
    "kernelspec": {
      "display_name": "base",
      "language": "python",
      "name": "python3"
    },
    "language_info": {
      "codemirror_mode": {
        "name": "ipython",
        "version": 3
      },
      "file_extension": ".py",
      "mimetype": "text/x-python",
      "name": "python",
      "nbconvert_exporter": "python",
      "pygments_lexer": "ipython3",
      "version": "3.12.9"
    }
  },
  "nbformat": 4,
  "nbformat_minor": 0
}